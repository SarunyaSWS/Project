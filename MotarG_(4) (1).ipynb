{
  "nbformat": 4,
  "nbformat_minor": 0,
  "metadata": {
    "colab": {
      "name": "MotarG (4).ipynb",
      "provenance": [],
      "collapsed_sections": [],
      "machine_shape": "hm"
    },
    "kernelspec": {
      "name": "python3",
      "display_name": "Python 3"
    },
    "accelerator": "GPU"
  },
  "cells": [
    {
      "cell_type": "code",
      "metadata": {
        "id": "q2cLFw_689cA",
        "colab_type": "code",
        "colab": {
          "base_uri": "https://localhost:8080/",
          "height": 253
        },
        "outputId": "324f1b2f-1387-47b5-a3d7-f7d1bec707b6"
      },
      "source": [
        "from keras import backend as K\n",
        "K.tensorflow_backend._get_available_gpus()"
      ],
      "execution_count": null,
      "outputs": [
        {
          "output_type": "stream",
          "text": [
            "Using TensorFlow backend.\n"
          ],
          "name": "stderr"
        },
        {
          "output_type": "display_data",
          "data": {
            "text/html": [
              "<p style=\"color: red;\">\n",
              "The default version of TensorFlow in Colab will soon switch to TensorFlow 2.x.<br>\n",
              "We recommend you <a href=\"https://www.tensorflow.org/guide/migrate\" target=\"_blank\">upgrade</a> now \n",
              "or ensure your notebook will continue to use TensorFlow 1.x via the <code>%tensorflow_version 1.x</code> magic:\n",
              "<a href=\"https://colab.research.google.com/notebooks/tensorflow_version.ipynb\" target=\"_blank\">more info</a>.</p>\n"
            ],
            "text/plain": [
              "<IPython.core.display.HTML object>"
            ]
          },
          "metadata": {
            "tags": []
          }
        },
        {
          "output_type": "stream",
          "text": [
            "WARNING:tensorflow:From /usr/local/lib/python3.6/dist-packages/keras/backend/tensorflow_backend.py:190: The name tf.get_default_session is deprecated. Please use tf.compat.v1.get_default_session instead.\n",
            "\n",
            "WARNING:tensorflow:From /usr/local/lib/python3.6/dist-packages/keras/backend/tensorflow_backend.py:197: The name tf.ConfigProto is deprecated. Please use tf.compat.v1.ConfigProto instead.\n",
            "\n",
            "WARNING:tensorflow:From /usr/local/lib/python3.6/dist-packages/keras/backend/tensorflow_backend.py:203: The name tf.Session is deprecated. Please use tf.compat.v1.Session instead.\n",
            "\n",
            "WARNING:tensorflow:From /usr/local/lib/python3.6/dist-packages/keras/backend/tensorflow_backend.py:207: The name tf.global_variables is deprecated. Please use tf.compat.v1.global_variables instead.\n",
            "\n"
          ],
          "name": "stdout"
        },
        {
          "output_type": "execute_result",
          "data": {
            "text/plain": [
              "['/job:localhost/replica:0/task:0/device:GPU:0']"
            ]
          },
          "metadata": {
            "tags": []
          },
          "execution_count": 1
        }
      ]
    },
    {
      "cell_type": "code",
      "metadata": {
        "id": "Ich1BIak9d88",
        "colab_type": "code",
        "colab": {}
      },
      "source": [
        "import keras as ks\n",
        "from keras.callbacks import ModelCheckpoint, ReduceLROnPlateau\n",
        "from keras.models import Sequential\n",
        "from keras.layers.advanced_activations import LeakyReLU\n",
        "from keras.layers import Activation, Dropout, Dense , Flatten\n",
        "from keras.layers import Conv2D, MaxPooling2D, GlobalMaxPooling2D ,ZeroPadding2D\n",
        "\n",
        "import tensorflow as tf\n",
        "from tensorflow.keras.callbacks import TensorBoard\n",
        "from sklearn.preprocessing import LabelBinarizer\n",
        "import numpy as np"
      ],
      "execution_count": null,
      "outputs": []
    },
    {
      "cell_type": "code",
      "metadata": {
        "id": "hLgQ4yR49hpE",
        "colab_type": "code",
        "colab": {}
      },
      "source": [
        "from skimage.transform import resize\n",
        "from sklearn.model_selection import train_test_split\n",
        "from sklearn.metrics import confusion_matrix, classification_report"
      ],
      "execution_count": null,
      "outputs": []
    },
    {
      "cell_type": "code",
      "metadata": {
        "id": "3AVkMXSC-7N_",
        "colab_type": "code",
        "colab": {
          "base_uri": "https://localhost:8080/",
          "height": 122
        },
        "outputId": "c52c3df9-412e-4db2-d20f-777fa7cb8cf7"
      },
      "source": [
        "from google.colab import drive\n",
        "drive.mount('/content/drive')"
      ],
      "execution_count": null,
      "outputs": [
        {
          "output_type": "stream",
          "text": [
            "Go to this URL in a browser: https://accounts.google.com/o/oauth2/auth?client_id=947318989803-6bn6qk8qdgf4n4g3pfee6491hc0brc4i.apps.googleusercontent.com&redirect_uri=urn%3aietf%3awg%3aoauth%3a2.0%3aoob&response_type=code&scope=email%20https%3a%2f%2fwww.googleapis.com%2fauth%2fdocs.test%20https%3a%2f%2fwww.googleapis.com%2fauth%2fdrive%20https%3a%2f%2fwww.googleapis.com%2fauth%2fdrive.photos.readonly%20https%3a%2f%2fwww.googleapis.com%2fauth%2fpeopleapi.readonly\n",
            "\n",
            "Enter your authorization code:\n",
            "··········\n",
            "Mounted at /content/drive\n"
          ],
          "name": "stdout"
        }
      ]
    },
    {
      "cell_type": "markdown",
      "metadata": {
        "id": "G3kdRihj_W8P",
        "colab_type": "text"
      },
      "source": [
        "import os\n",
        "os.chdir(\"drive/My Drive/(ชื่อโฟลเดอร์ใน Google Drive ที่ต้องการ)\")"
      ]
    },
    {
      "cell_type": "code",
      "metadata": {
        "id": "pBvMY-0CGIMS",
        "colab_type": "code",
        "colab": {
          "base_uri": "https://localhost:8080/",
          "height": 34
        },
        "outputId": "fe3efb29-9149-4624-b8de-b9e0b97e1033"
      },
      "source": [
        "!kill 1024"
      ],
      "execution_count": null,
      "outputs": [
        {
          "output_type": "stream",
          "text": [
            "/bin/bash: line 0: kill: (1024) - No such process\n"
          ],
          "name": "stdout"
        }
      ]
    },
    {
      "cell_type": "code",
      "metadata": {
        "id": "5kHqud4G6WSE",
        "colab_type": "code",
        "colab": {
          "base_uri": "https://localhost:8080/",
          "height": 34
        },
        "outputId": "9305dc9d-776e-4ec3-8a33-9e9239c58f63"
      },
      "source": [
        "print(\"TensorFlow version: \", tf.__version__)\n"
      ],
      "execution_count": null,
      "outputs": [
        {
          "output_type": "stream",
          "text": [
            "TensorFlow version:  1.14.0\n"
          ],
          "name": "stdout"
        }
      ]
    },
    {
      "cell_type": "code",
      "metadata": {
        "id": "6vuEt9COUYXW",
        "colab_type": "code",
        "colab": {}
      },
      "source": [
        "%reload_ext tensorboard\n",
        "%tensorboard --logdir \"drive/My Drive/Project/MotorG/log166/\""
      ],
      "execution_count": null,
      "outputs": []
    },
    {
      "cell_type": "code",
      "metadata": {
        "id": "hnURCMGF9lKX",
        "colab_type": "code",
        "colab": {}
      },
      "source": [
        "import os\n",
        "import pickle\n",
        "\n",
        "\n",
        "pickle_in = open(\"drive/My Drive/Project/MotorG/XG_train.pickle\",\"rb\")\n",
        "X = pickle.load(pickle_in)\n",
        "\n",
        "pickle_in = open(\"drive/My Drive/Project/MotorG/yG_train.pickle\", \"rb\")\n",
        "y = pickle.load(pickle_in)\n",
        "\n",
        "# Any results you write to the current directory are saved as output.\n",
        "\n",
        "lb = LabelBinarizer()\n",
        "\n",
        "y = lb.fit_transform(y)\n",
        "\n",
        "X_train = np.array(X)\n",
        "y_train = np.array(y)\n",
        "\n",
        "tensorbroad = TensorBoard(log_dir='drive/My Drive/Project/MotorG/log/{}'.format('modelLabel'))\n",
        "\n",
        "model = Sequential()\n",
        "\n",
        "model.add(Conv2D(25, (3,3),input_shape = X.shape[1:], padding='same', activation='relu'))\n",
        "model.add(Conv2D(25, (3,3), padding='same'))\n",
        "model.add(LeakyReLU(alpha=0.02))\n",
        "model.add(MaxPooling2D(pool_size = (2, 2)))\n",
        "\n",
        "for i in range(0,3):\n",
        "\tmodel.add(Conv2D(32, (3,3), padding='same'))\n",
        "\tmodel.add(LeakyReLU(alpha=0.02))\n",
        "model.add(MaxPooling2D(pool_size = (2, 2)))\n",
        "model.add(Dropout(0.2))\n",
        "\n",
        "for i in range(0,2):\n",
        "\tmodel.add(Conv2D(196, (3,3), padding='same'))\n",
        "\tmodel.add(LeakyReLU(alpha=0.02))\n",
        "model.add(MaxPooling2D(pool_size = (2, 2)))\n",
        "model.add(Dropout(0.2))\n",
        "\n",
        "model.add(Flatten())\n",
        "\n",
        "model.add(Dense(64, activation='relu'))\n",
        "\n",
        "model.add(Dense(64, activation='relu'))\n",
        "model.add(Dropout(0.2))\n",
        "\n",
        "model.add(Dense(64, activation='relu'))\n",
        "model.add(Dropout(0.1))\n",
        "\n",
        "model.add(Dense(2, activation='softmax'))\n",
        "\n",
        "model.compile(loss='sparse_categorical_crossentropy', optimizer='adam', metrics=['accuracy'])\n",
        "model.fit(X_train, y_train, batch_size=128, epochs=100, callbacks=[tensorbroad])\n",
        "model.save('drive/My Drive/Project/MotorG/modelMotarG.model')\n",
        "#checkpointer = ModelCheckpoint(filepath='weight/weights.best.model.hdf5', verbose=1, save_best_only=True)\n",
        "lr_reduction = ReduceLROnPlateau(monitor='val_loss', patience=5, verbose=2, factor=0.5)"
      ],
      "execution_count": null,
      "outputs": []
    },
    {
      "cell_type": "code",
      "metadata": {
        "id": "MCd6a4oj6xP5",
        "colab_type": "code",
        "colab": {}
      },
      "source": [
        "%tensorboard --logdir \"drive/My Drive/Project/MotorG/log166/\"/scalars"
      ],
      "execution_count": null,
      "outputs": []
    },
    {
      "cell_type": "code",
      "metadata": {
        "colab_type": "code",
        "id": "dN9IA-jRYNLa",
        "colab": {}
      },
      "source": [
        "#VGG16\n",
        "import os\n",
        "import pickle\n",
        "\n",
        "pickle_in = open(\"drive/My Drive/Project/MotorG/XG_train.pickle\",\"rb\")\n",
        "X = pickle.load(pickle_in)\n",
        "\n",
        "pickle_in = open(\"drive/My Drive/Project/MotorG/yG_train.pickle\",\"rb\")\n",
        "y = pickle.load(pickle_in)\n",
        "\n",
        "lb = LabelBinarizer()\n",
        "\n",
        "y = lb.fit_transform(y)\n",
        "\n",
        "X_train = np.array(X)\n",
        "y_train = np.array(y)\n",
        "\n",
        "tensorbroad = TensorBoard(log_dir='drive/My Drive/Project/MotorG/log166/{}'.format('modelLabel'))\n",
        "\n",
        "model = Sequential()\n",
        "\n",
        "# Add the vgg convolutional base model\n",
        "model.add(ZeroPadding2D((1,1),input_shape = X.shape[1:]))\n",
        "model.add(Conv2D(32,(3,3) , activation='relu'))\n",
        "model.add(ZeroPadding2D((1,1)))\n",
        "model.add(Conv2D(32,(3,3), activation='relu'))\n",
        "model.add(MaxPooling2D((2,2), strides=(2,2)))\n",
        "\n",
        "model.add(ZeroPadding2D((1,1)))\n",
        "model.add(Conv2D(32,(3,3), activation='relu'))\n",
        "model.add(ZeroPadding2D((1,1)))\n",
        "model.add(Conv2D(32,(3,3), activation='relu'))\n",
        "model.add(MaxPooling2D((2,2), strides=(2,2)))\n",
        "\n",
        "model.add(ZeroPadding2D((1,1)))\n",
        "model.add(Conv2D(64,(3,3) , activation='relu'))\n",
        "model.add(ZeroPadding2D((1,1)))\n",
        "model.add(Conv2D(64,(3,3) , activation='relu'))\n",
        "model.add(ZeroPadding2D((1,1)))\n",
        "model.add(Conv2D(64,(3,3) , activation='relu'))\n",
        "model.add(MaxPooling2D((2,2), strides=(2,2)))\n",
        "    \n",
        "model.add(ZeroPadding2D((1,1)))\n",
        "model.add(Conv2D(128,(3,3), activation='relu'))\n",
        "model.add(ZeroPadding2D((1,1)))\n",
        "model.add(Conv2D(128,(3,3), activation='relu'))\n",
        "model.add(ZeroPadding2D((1,1)))\n",
        "model.add(Conv2D(128,(3,3), activation='relu'))\n",
        "model.add(MaxPooling2D((2,2), strides=(2,2)))\n",
        "    \n",
        "model.add(ZeroPadding2D((1,1)))\n",
        "model.add(Conv2D(128,(3,3), activation='relu'))\n",
        "model.add(ZeroPadding2D((1,1)))\n",
        "model.add(Conv2D(128,(3,3), activation='relu'))\n",
        "model.add(ZeroPadding2D((1,1)))\n",
        "model.add(Conv2D(128,(3,3), activation='relu'))\n",
        "model.add(MaxPooling2D((2,2), strides=(2,2)))\n",
        "\n",
        "model.add(Flatten())\n",
        "\n",
        "model.add(Dense(4096, activation='relu'))\n",
        "model.add(Dropout(0.5))\n",
        "    \n",
        "model.add(Dense(4096, activation='relu'))\n",
        "model.add(Dropout(0.5))\n",
        "\n",
        "model.add(Dense(64, activation='relu'))\n",
        "model.add(Dropout(0.5))\n",
        "\n",
        "model.add(Dense(2, activation='softmax'))\n",
        "\n",
        "model.compile(loss='sparse_categorical_crossentropy', optimizer='sgd', metrics=['accuracy'])\n",
        "model.fit(X_train, y_train, batch_size=16, epochs=100, callbacks=[tensorbroad])\n",
        "model.save('drive/My Drive/Project/MotorG/modelGlueVgg16_1.model')\n",
        "lr_reduction = ReduceLROnPlateau(monitor='val_loss', patience=10, verbose=2, factor=0.5)"
      ],
      "execution_count": null,
      "outputs": []
    },
    {
      "cell_type": "code",
      "metadata": {
        "id": "mZSB69pB9pAt",
        "colab_type": "code",
        "colab": {
          "base_uri": "https://localhost:8080/",
          "height": 204
        },
        "outputId": "40f59744-2a0c-4526-f622-176a406fabe8"
      },
      "source": [
        "#test\n",
        "import pickle\n",
        "lb = LabelBinarizer()\n",
        "pickle_in = open(\"drive/My Drive/Project/MotorG/XG_test.pickle\",\"rb\")\n",
        "X = pickle.load(pickle_in)\n",
        "\n",
        "pickle_in = open(\"drive/My Drive/Project/MotorG/yG_test.pickle\",\"rb\")\n",
        "y = pickle.load(pickle_in)\n",
        "\n",
        "y = lb.fit_transform(y)\n",
        "\n",
        "X_test = np.array(X)\n",
        "y_test = np.array(y)\n",
        "\n",
        "model = tf.keras.models.load_model(\"drive/My Drive/Project/MotorG/modelMotarG.model\")\n",
        "prediction = model.predict(X_test)\n",
        "y_test = y_test.ravel()\n",
        "\n",
        "from sklearn.metrics import confusion_matrix, classification_report, accuracy_score\n",
        "print(classification_report(y_test, prediction.argmax(axis=1), target_names=lb.classes_))"
      ],
      "execution_count": null,
      "outputs": [
        {
          "output_type": "stream",
          "text": [
            "1e-05\n",
            "0.99999\n",
            "              precision    recall  f1-score   support\n",
            "\n",
            "     Invalid       1.00      1.00      1.00       215\n",
            "       Valid       1.00      1.00      1.00       221\n",
            "\n",
            "    accuracy                           1.00       436\n",
            "   macro avg       1.00      1.00      1.00       436\n",
            "weighted avg       1.00      1.00      1.00       436\n",
            "\n"
          ],
          "name": "stdout"
        }
      ]
    }
  ]
}