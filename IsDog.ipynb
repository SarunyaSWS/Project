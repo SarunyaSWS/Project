{
  "nbformat": 4,
  "nbformat_minor": 0,
  "metadata": {
    "colab": {
      "name": "IsDog.ipynb",
      "provenance": []
    },
    "kernelspec": {
      "name": "python3",
      "display_name": "Python 3"
    },
    "accelerator": "GPU"
  },
  "cells": [
    {
      "cell_type": "markdown",
      "metadata": {
        "id": "7fTHC2AUG-1p",
        "colab_type": "text"
      },
      "source": [
        "#***Import***\n"
      ]
    },
    {
      "cell_type": "code",
      "metadata": {
        "id": "gQPCXz47EdTc",
        "colab_type": "code",
        "colab": {}
      },
      "source": [
        "import tensorflow as tf\n",
        "from tensorflow.keras.models import Sequential\n",
        "from tensorflow.keras.layers import Dense, Conv2D, Flatten, Dropout, MaxPooling2D, GlobalMaxPooling2D ,ZeroPadding2D\n",
        "import numpy as np\n",
        "import os\n",
        "import cv2\n",
        "from sklearn.model_selection import train_test_split\n",
        "from sklearn.preprocessing import LabelBinarizer\n",
        "import pickle\n",
        "import matplotlib.pyplot as plt"
      ],
      "execution_count": null,
      "outputs": []
    },
    {
      "cell_type": "markdown",
      "metadata": {
        "id": "W45hpPfHHk9L",
        "colab_type": "text"
      },
      "source": [
        "# ***Connect to google drive***"
      ]
    },
    {
      "cell_type": "code",
      "metadata": {
        "id": "w66QEEYxHeH5",
        "colab_type": "code",
        "colab": {
          "base_uri": "https://localhost:8080/",
          "height": 34
        },
        "outputId": "ffece7b3-2358-4ebf-f0bb-f2767f1e1087"
      },
      "source": [
        "from google.colab import drive\n",
        "drive.mount('/content/drive')"
      ],
      "execution_count": null,
      "outputs": [
        {
          "output_type": "stream",
          "text": [
            "Drive already mounted at /content/drive; to attempt to forcibly remount, call drive.mount(\"/content/drive\", force_remount=True).\n"
          ],
          "name": "stdout"
        }
      ]
    },
    {
      "cell_type": "markdown",
      "metadata": {
        "id": "gE6uudraJQkU",
        "colab_type": "text"
      },
      "source": [
        "# ***Load image and save to pickle file***"
      ]
    },
    {
      "cell_type": "code",
      "metadata": {
        "id": "Ax_PyjT7Jccz",
        "colab_type": "code",
        "colab": {}
      },
      "source": [
        "DATADIR = 'drive/My Drive/Project/Animal'\n",
        "CATEGORIES = ['Dog']\n",
        "training_data = []\n",
        "X = []\n",
        "y = []\n",
        "for category in CATEGORIES:\n",
        "    path = os.path.join(DATADIR,category)\n",
        "    for img in os.listdir(path):\n",
        "        img_array = cv2.imread(os.path.join(path, img))\n",
        "        new_array = cv2.resize(img_array,(320, 240))\n",
        "        training_data.append([new_array, category])\n",
        "\n",
        "for features, label in training_data:\n",
        "    X.append(features)\n",
        "    y.append(label)\n",
        "\n",
        "X = np.array(X)\n",
        "y = np.array(y)\n",
        "\n",
        "X = X/255.0\n",
        "\n",
        "X_train, X_test, y_train, y_test = train_test_split(X, y,test_size=0.2, random_state=5)\n",
        "\n",
        "pickle_out = open(\"drive/My Drive/Project/Animal/X_train.pickle\",\"wb\")\n",
        "pickle.dump(X_train, pickle_out)\n",
        "pickle_out.close()\n",
        "\n",
        "pickle_out = open(\"drive/My Drive/Project/Animal/X_test.pickle\",\"wb\")\n",
        "pickle.dump(X_test, pickle_out)\n",
        "pickle_out.close()\n",
        "\n",
        "pickle_out = open(\"drive/My Drive/Project/Animal/y_train.pickle\",\"wb\")\n",
        "pickle.dump(y_train, pickle_out)\n",
        "pickle_out.close()\n",
        "\n",
        "pickle_out = open(\"drive/My Drive/Project/Animal/y_test.pickle\", \"wb\")\n",
        "pickle.dump(y_test, pickle_out)\n",
        "pickle_out.close()    \n",
        "\n",
        "print('save pickle compelete')"
      ],
      "execution_count": null,
      "outputs": []
    },
    {
      "cell_type": "markdown",
      "metadata": {
        "id": "0wNT4vE6MQui",
        "colab_type": "text"
      },
      "source": [
        "# ***Create Model***"
      ]
    },
    {
      "cell_type": "code",
      "metadata": {
        "id": "GjAQJobeMXRC",
        "colab_type": "code",
        "colab": {
          "base_uri": "https://localhost:8080/",
          "height": 714
        },
        "outputId": "1ea02f2b-163e-4037-9c60-311086d7b31f"
      },
      "source": [
        "pickle_in = open(\"drive/My Drive/Project/Animal/X_train.pickle\",\"rb\")\n",
        "X = pickle.load(pickle_in)\n",
        "\n",
        "pickle_in = open(\"drive/My Drive/Project/Animal/y_train.pickle\",\"rb\")\n",
        "y = pickle.load(pickle_in)\n",
        "\n",
        "lb = LabelBinarizer()\n",
        "\n",
        "y = lb.fit_transform(y)\n",
        "\n",
        "X_train = np.array(X)\n",
        "y_train = np.array(y)\n",
        "\n",
        "model = Sequential()\n",
        "\n",
        "# Add the vgg convolutional base model\n",
        "model.add(ZeroPadding2D((1,1),input_shape = X.shape[1:]))\n",
        "model.add(Conv2D(32,(3,3) , activation='relu'))\n",
        "model.add(ZeroPadding2D((1,1)))\n",
        "model.add(Conv2D(32,(3,3), activation='relu'))\n",
        "model.add(MaxPooling2D((2,2), strides=(2,2)))\n",
        "\n",
        "model.add(ZeroPadding2D((1,1)))\n",
        "model.add(Conv2D(32,(3,3), activation='relu'))\n",
        "model.add(ZeroPadding2D((1,1)))\n",
        "model.add(Conv2D(32,(3,3), activation='relu'))\n",
        "model.add(MaxPooling2D((2,2), strides=(2,2)))\n",
        "\n",
        "model.add(ZeroPadding2D((1,1)))\n",
        "model.add(Conv2D(64,(3,3) , activation='relu'))\n",
        "model.add(ZeroPadding2D((1,1)))\n",
        "model.add(Conv2D(64,(3,3) , activation='relu'))\n",
        "model.add(ZeroPadding2D((1,1)))\n",
        "model.add(Conv2D(64,(3,3) , activation='relu'))\n",
        "model.add(MaxPooling2D((2,2), strides=(2,2)))\n",
        "    \n",
        "model.add(ZeroPadding2D((1,1)))\n",
        "model.add(Conv2D(128,(3,3), activation='relu'))\n",
        "model.add(ZeroPadding2D((1,1)))\n",
        "model.add(Conv2D(128,(3,3), activation='relu'))\n",
        "model.add(ZeroPadding2D((1,1)))\n",
        "model.add(Conv2D(128,(3,3), activation='relu'))\n",
        "model.add(MaxPooling2D((2,2), strides=(2,2)))\n",
        "    \n",
        "model.add(ZeroPadding2D((1,1)))\n",
        "model.add(Conv2D(128,(3,3), activation='relu'))\n",
        "model.add(ZeroPadding2D((1,1)))\n",
        "model.add(Conv2D(128,(3,3), activation='relu'))\n",
        "model.add(ZeroPadding2D((1,1)))\n",
        "model.add(Conv2D(128,(3,3), activation='relu'))\n",
        "model.add(MaxPooling2D((2,2), strides=(2,2)))\n",
        "\n",
        "model.add(Flatten())\n",
        "\n",
        "model.add(Dense(4096, activation='relu'))\n",
        "model.add(Dropout(0.5))\n",
        "    \n",
        "model.add(Dense(4096, activation='relu'))\n",
        "model.add(Dropout(0.5))\n",
        "\n",
        "model.add(Dense(64, activation='relu'))\n",
        "model.add(Dropout(0.5))\n",
        "\n",
        "model.add(Dense(1, activation='softmax'))\n",
        "\n",
        "model.compile(loss='sparse_categorical_crossentropy', optimizer='sgd', metrics=['accuracy'])\n",
        "model.fit(X_train, y_train, batch_size=20, epochs=20)\n",
        "model.save('drive/My Drive/Project/Animal/IsDog.model')"
      ],
      "execution_count": null,
      "outputs": [
        {
          "output_type": "stream",
          "text": [
            "Train on 797 samples\n",
            "Epoch 1/20\n",
            "797/797 [==============================] - 4s 5ms/sample - loss: 0.0000e+00 - acc: 0.0000e+00\n",
            "Epoch 2/20\n",
            "797/797 [==============================] - 3s 4ms/sample - loss: 0.0000e+00 - acc: 0.0000e+00\n",
            "Epoch 3/20\n",
            "797/797 [==============================] - 3s 4ms/sample - loss: 0.0000e+00 - acc: 0.0000e+00\n",
            "Epoch 4/20\n",
            "797/797 [==============================] - 4s 4ms/sample - loss: 0.0000e+00 - acc: 0.0000e+00\n",
            "Epoch 5/20\n",
            "797/797 [==============================] - 3s 4ms/sample - loss: 0.0000e+00 - acc: 0.0000e+00\n",
            "Epoch 6/20\n",
            "797/797 [==============================] - 4s 4ms/sample - loss: 0.0000e+00 - acc: 0.0000e+00\n",
            "Epoch 7/20\n",
            "797/797 [==============================] - 4s 4ms/sample - loss: 0.0000e+00 - acc: 0.0000e+00\n",
            "Epoch 8/20\n",
            "797/797 [==============================] - 4s 4ms/sample - loss: 0.0000e+00 - acc: 0.0000e+00\n",
            "Epoch 9/20\n",
            "797/797 [==============================] - 4s 4ms/sample - loss: 0.0000e+00 - acc: 0.0000e+00\n",
            "Epoch 10/20\n",
            "797/797 [==============================] - 4s 4ms/sample - loss: 0.0000e+00 - acc: 0.0000e+00\n",
            "Epoch 11/20\n",
            "797/797 [==============================] - 4s 4ms/sample - loss: 0.0000e+00 - acc: 0.0000e+00\n",
            "Epoch 12/20\n",
            "797/797 [==============================] - 4s 4ms/sample - loss: 0.0000e+00 - acc: 0.0000e+00\n",
            "Epoch 13/20\n",
            "797/797 [==============================] - 4s 4ms/sample - loss: 0.0000e+00 - acc: 0.0000e+00\n",
            "Epoch 14/20\n",
            "797/797 [==============================] - 4s 4ms/sample - loss: 0.0000e+00 - acc: 0.0000e+00\n",
            "Epoch 15/20\n",
            "797/797 [==============================] - 4s 4ms/sample - loss: 0.0000e+00 - acc: 0.0000e+00\n",
            "Epoch 16/20\n",
            "797/797 [==============================] - 4s 4ms/sample - loss: 0.0000e+00 - acc: 0.0000e+00\n",
            "Epoch 17/20\n",
            "797/797 [==============================] - 4s 4ms/sample - loss: 0.0000e+00 - acc: 0.0000e+00\n",
            "Epoch 18/20\n",
            "797/797 [==============================] - 4s 4ms/sample - loss: 0.0000e+00 - acc: 0.0000e+00\n",
            "Epoch 19/20\n",
            "797/797 [==============================] - 4s 4ms/sample - loss: 0.0000e+00 - acc: 0.0000e+00\n",
            "Epoch 20/20\n",
            "797/797 [==============================] - 4s 4ms/sample - loss: 0.0000e+00 - acc: 0.0000e+00\n"
          ],
          "name": "stdout"
        }
      ]
    },
    {
      "cell_type": "markdown",
      "metadata": {
        "id": "UcCKcDJGcO8B",
        "colab_type": "text"
      },
      "source": [
        "# ***Evaluation model***"
      ]
    },
    {
      "cell_type": "code",
      "metadata": {
        "id": "whDaEM6fcYzv",
        "colab_type": "code",
        "colab": {
          "base_uri": "https://localhost:8080/",
          "height": 153
        },
        "outputId": "8296c753-bc0a-40f3-852c-b4b3a705af49"
      },
      "source": [
        "lb = LabelBinarizer()\n",
        "pickle_in = open(\"drive/My Drive/Project/Animal/X_test.pickle\",\"rb\")\n",
        "X = pickle.load(pickle_in)\n",
        "\n",
        "pickle_in = open(\"drive/My Drive/Project/Animal/y_test.pickle\",\"rb\")\n",
        "y = pickle.load(pickle_in)\n",
        "\n",
        "y = lb.fit_transform(y)\n",
        "\n",
        "X_test = np.array(X)\n",
        "y_test = np.array(y)\n",
        "\n",
        "model = tf.keras.models.load_model(\"drive/My Drive/Project/Animal/IsDog.model\")\n",
        "prediction = model.predict(X_test)\n",
        "y_test = y_test.ravel()\n",
        "\n",
        "from sklearn.metrics import confusion_matrix, classification_report, accuracy_score\n",
        "print(classification_report(y_test, prediction.argmax(axis=1), target_names=lb.classes_))"
      ],
      "execution_count": null,
      "outputs": [
        {
          "output_type": "stream",
          "text": [
            "              precision    recall  f1-score   support\n",
            "\n",
            "         Dog       1.00      1.00      1.00       200\n",
            "\n",
            "    accuracy                           1.00       200\n",
            "   macro avg       1.00      1.00      1.00       200\n",
            "weighted avg       1.00      1.00      1.00       200\n",
            "\n"
          ],
          "name": "stdout"
        }
      ]
    },
    {
      "cell_type": "markdown",
      "metadata": {
        "id": "gEMyFB-6c9Nw",
        "colab_type": "text"
      },
      "source": [
        "# ***Test Model***"
      ]
    },
    {
      "cell_type": "code",
      "metadata": {
        "id": "kHjmoBeOdc0d",
        "colab_type": "code",
        "colab": {}
      },
      "source": [
        "CATEGORIES = ['Dog']\n",
        "lb = LabelBinarizer()\n",
        "y = lb.fit_transform(CATEGORIES)\n",
        "model = tf.keras.models.load_model('drive/My Drive/Project/Animal/IsDog.model')\n",
        "img = image.load_img('drive/My Drive/Project/Animal/2.JPG', target_size=(320, 240))\n",
        "predict = model.predict(img)\n",
        "print(predict)\n",
        "predict_text = lb.inverse_transform(np.array([predict.argmax(axis=1)]))\n",
        "print (predict_text)"
      ],
      "execution_count": null,
      "outputs": []
    }
  ]
}